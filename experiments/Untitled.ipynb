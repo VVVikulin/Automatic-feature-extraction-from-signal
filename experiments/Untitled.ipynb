{
 "cells": [
  {
   "cell_type": "code",
   "execution_count": 1,
   "metadata": {
    "collapsed": true
   },
   "outputs": [],
   "source": [
    "from abc import ABCMeta, abstractmethod, abstractproperty\n",
    "import numpy as np"
   ]
  },
  {
   "cell_type": "code",
   "execution_count": 2,
   "metadata": {
    "collapsed": false
   },
   "outputs": [
    {
     "name": "stdout",
     "output_type": "stream",
     "text": [
      "75.2546387851\n",
      "1.64597317781\n",
      "0.642953052687\n",
      "0.55820761662\n",
      "0.00049312816221\n"
     ]
    },
    {
     "data": {
      "text/plain": [
       "(-0.022206489191461287, 0.000493128162210487)"
      ]
     },
     "execution_count": 2,
     "metadata": {},
     "output_type": "execute_result"
    }
   ],
   "source": [
    "class Optimizer():\n",
    "    \"\"\"Base abstract class for all another optimizers\"\"\"\n",
    "    __metaclass__ = ABCMeta\n",
    "\n",
    "    @abstractmethod\n",
    "    def optimize():\n",
    "        \"\"\"This function will be used for optimize function f(x)\"\"\"\n",
    "        return\n",
    "    \n",
    "    @abstractproperty\n",
    "    def function():\n",
    "        \"\"\"This function we will optimize\"\"\"\n",
    "        return\n",
    "    \n",
    "    @abstractproperty\n",
    "    def max_iter():\n",
    "        \"\"\"Maximum number of itetarion\"\"\"\n",
    "        return\n",
    "    \n",
    "    @abstractproperty\n",
    "    def epsilon():\n",
    "        \"\"\"Error to stop iteration\"\"\"\n",
    "        return\n",
    "\n",
    "    \n",
    "class Annealing_Optimizer(Optimizer):\n",
    "    \"\"\"Simulated annealing method for optimize function f(x)\"\"\"\n",
    "    function=None\n",
    "    max_iter=None\n",
    "    epsilon=None\n",
    "    \n",
    "    def __init__(self, func):\n",
    "        self.function = func\n",
    "        \n",
    "    def generate_point(self, x, t, gen_type='boltzmann'):\n",
    "        if gen_type == 'boltzmann':\n",
    "            return np.random.normal(loc=x, scale=t)\n",
    "        \n",
    "    def generate_temp(self, k, t0=1000, gen_type='boltzmann'):\n",
    "        if gen_type == 'boltzmann':\n",
    "            return t0/np.log(1 + k)\n",
    "    \n",
    "    def optimize(self, max_iter, x0, epsilon=None):\n",
    "        min_x = x0\n",
    "        old_x = x0\n",
    "        current_energy = self.function(x0)\n",
    "        min_energy = current_energy\n",
    "        temp = 1000.0\n",
    "        if epsilon is None:\n",
    "            eps = 0.0\n",
    "        else:\n",
    "            eps = epsilon\n",
    "        for i in range(1, max_iter):\n",
    "            delta_e = 0.0\n",
    "            alpha = np.random.uniform()\n",
    "            \n",
    "            while alpha < np.exp(-delta_e / temp):\n",
    "                new_x = self.generate_point(old_x, temp )\n",
    "                new_energy = self.function(new_x)\n",
    "                delta_e = new_energy - current_energy\n",
    "                if delta_e < 0:\n",
    "                    break\n",
    "            if new_energy < min_energy:\n",
    "                print new_energy\n",
    "                min_x = new_x\n",
    "                min_energy = new_energy\n",
    "            if (abs(new_energy - current_energy) < epsilon) or temp < 0.0000001:\n",
    "                break\n",
    "            #print new_energy, new_x\n",
    "            old_x = new_x\n",
    "            current_energy = new_energy\n",
    "            temp = self.generate_temp(i)\n",
    "        return min_x, min_energy\n",
    "           \n",
    "                \n",
    "            \n",
    "            \n",
    "        \n",
    "\n",
    "\n",
    "    \n",
    "\n",
    "test_optim = Annealing_Optimizer(test_func)\n",
    "test_optim.optimize(max_iter=1000000, x0=-10)"
   ]
  },
  {
   "cell_type": "code",
   "execution_count": null,
   "metadata": {
    "collapsed": false
   },
   "outputs": [],
   "source": [
    "def test_func(x):\n",
    "    return x*x\n",
    "myopts = {\n",
    "        'schedule'     : 'boltzmann',   # Non-default value.\n",
    "        'maxfev'       : None,  # Default, formerly `maxeval`.\n",
    "        'maxiter'      : 500,   # Non-default value.\n",
    "        'maxaccept'    : None,  # Default value.\n",
    "        'ftol'         : 1e-6,  # Default, formerly `feps`.\n",
    "        'T0'           : None,  # Default value.\n",
    "        'Tf'           : 1e-12, # Default value.\n",
    "        'boltzmann'    : 1.0,   # Default value.\n",
    "        'learn_rate'   : 0.5,   # Default value.\n",
    "        'quench'       : 1.0,   # Default value.\n",
    "        'm'            : 1.0,   # Default value.\n",
    "        'n'            : 1.0,   # Default value.\n",
    "        'lower'        : -10,   # Non-default value.\n",
    "        'upper'        : +10,   # Non-default value.\n",
    "        'dwell'        : 250,   # Non-default value.\n",
    "        'disp'         : True   # Default value.\n",
    "        }\n",
    "from scipy import optimize\n",
    "np.random.seed(777)  # Seeded to allow replication.\n",
    "res2 = optimize.minimize(test_func, x0=1,  method='Anneal',\n",
    "                             options=myopts)"
   ]
  },
  {
   "cell_type": "code",
   "execution_count": null,
   "metadata": {
    "collapsed": true
   },
   "outputs": [],
   "source": [
    "import scipy.optimize as sciOpt\n",
    "import numpy as np\n",
    "# the function to optimize\n",
    "func = lambda x: np.cos(14.5*x-0.3) + (x+0.2)*x\n",
    "# use the anneal function\n",
    "xmin,Jmin,Tf,numEval,iters,accept,retval = sciOpt.anneal(func,1.0,full_output=1,upper=3.0,lower=-3.0,feps=1e-6,maxiter=2000,schedule='fast')\n",
    "# print the result\n",
    "print \"Xmin = \",xmin,\" Jmin = \",Jmin"
   ]
  },
  {
   "cell_type": "code",
   "execution_count": 6,
   "metadata": {
    "collapsed": true
   },
   "outputs": [],
   "source": [
    "from scipy.optimize import basinhopping\n",
    "import numpy as np\n",
    "func = lambda x: x*x\n",
    "x0=[1.]"
   ]
  },
  {
   "cell_type": "code",
   "execution_count": 8,
   "metadata": {
    "collapsed": false
   },
   "outputs": [
    {
     "name": "stdout",
     "output_type": "stream",
     "text": [
      "global minimum: x = 0.0000, f(x0) = 0.0000\n"
     ]
    }
   ],
   "source": [
    "minimizer_kwargs = {\"method\": \"BFGS\"}\n",
    "ret = basinhopping(func, x0, minimizer_kwargs=minimizer_kwargs,\n",
    "                   niter=200)\n",
    "print(\"global minimum: x = %.4f, f(x0) = %.4f\" % (ret.x, ret.fun))"
   ]
  },
  {
   "cell_type": "code",
   "execution_count": null,
   "metadata": {
    "collapsed": true
   },
   "outputs": [],
   "source": []
  }
 ],
 "metadata": {
  "kernelspec": {
   "display_name": "Python 2",
   "language": "python",
   "name": "python2"
  },
  "language_info": {
   "codemirror_mode": {
    "name": "ipython",
    "version": 2
   },
   "file_extension": ".py",
   "mimetype": "text/x-python",
   "name": "python",
   "nbconvert_exporter": "python",
   "pygments_lexer": "ipython2",
   "version": "2.7.12"
  }
 },
 "nbformat": 4,
 "nbformat_minor": 0
}
